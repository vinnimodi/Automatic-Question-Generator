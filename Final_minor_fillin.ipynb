{
  "cells": [
    {
      "cell_type": "code",
      "execution_count": 1,
      "metadata": {
        "colab": {
          "base_uri": "https://localhost:8080/"
        },
        "id": "tv9sS3VZ2hrI",
        "outputId": "3058b232-5e99-4e60-d042-0d5ce3dd9576"
      },
      "outputs": [
        {
          "name": "stdout",
          "output_type": "stream",
          "text": [
            "Requirement already satisfied: nltk in c:\\users\\manis\\appdata\\local\\programs\\python\\python311\\lib\\site-packages (3.7)\n",
            "Requirement already satisfied: click in c:\\users\\manis\\appdata\\local\\programs\\python\\python311\\lib\\site-packages (from nltk) (8.1.3)\n",
            "Requirement already satisfied: joblib in c:\\users\\manis\\appdata\\local\\programs\\python\\python311\\lib\\site-packages (from nltk) (1.2.0)\n",
            "Requirement already satisfied: regex>=2021.8.3 in c:\\users\\manis\\appdata\\local\\programs\\python\\python311\\lib\\site-packages (from nltk) (2022.10.31)\n",
            "Requirement already satisfied: tqdm in c:\\users\\manis\\appdata\\local\\programs\\python\\python311\\lib\\site-packages (from nltk) (4.64.1)\n",
            "Requirement already satisfied: colorama in c:\\users\\manis\\appdata\\local\\programs\\python\\python311\\lib\\site-packages (from click->nltk) (0.4.6)\n"
          ]
        },
        {
          "name": "stderr",
          "output_type": "stream",
          "text": [
            "\n",
            "[notice] A new release of pip available: 22.3 -> 22.3.1\n",
            "[notice] To update, run: python.exe -m pip install --upgrade pip\n"
          ]
        },
        {
          "name": "stdout",
          "output_type": "stream",
          "text": [
            "Requirement already satisfied: textblob in c:\\users\\manis\\appdata\\local\\programs\\python\\python311\\lib\\site-packages (0.17.1)\n",
            "Requirement already satisfied: nltk>=3.1 in c:\\users\\manis\\appdata\\local\\programs\\python\\python311\\lib\\site-packages (from textblob) (3.7)\n",
            "Requirement already satisfied: click in c:\\users\\manis\\appdata\\local\\programs\\python\\python311\\lib\\site-packages (from nltk>=3.1->textblob) (8.1.3)\n",
            "Requirement already satisfied: joblib in c:\\users\\manis\\appdata\\local\\programs\\python\\python311\\lib\\site-packages (from nltk>=3.1->textblob) (1.2.0)\n",
            "Requirement already satisfied: regex>=2021.8.3 in c:\\users\\manis\\appdata\\local\\programs\\python\\python311\\lib\\site-packages (from nltk>=3.1->textblob) (2022.10.31)\n",
            "Requirement already satisfied: tqdm in c:\\users\\manis\\appdata\\local\\programs\\python\\python311\\lib\\site-packages (from nltk>=3.1->textblob) (4.64.1)\n",
            "Requirement already satisfied: colorama in c:\\users\\manis\\appdata\\local\\programs\\python\\python311\\lib\\site-packages (from click->nltk>=3.1->textblob) (0.4.6)\n"
          ]
        },
        {
          "name": "stderr",
          "output_type": "stream",
          "text": [
            "\n",
            "[notice] A new release of pip available: 22.3 -> 22.3.1\n",
            "[notice] To update, run: python.exe -m pip install --upgrade pip\n"
          ]
        },
        {
          "name": "stdout",
          "output_type": "stream",
          "text": [
            "Finished.\n"
          ]
        },
        {
          "name": "stderr",
          "output_type": "stream",
          "text": [
            "[nltk_data] Downloading package brown to\n",
            "[nltk_data]     C:\\Users\\manis\\AppData\\Roaming\\nltk_data...\n",
            "[nltk_data]   Package brown is already up-to-date!\n",
            "[nltk_data] Downloading package punkt to\n",
            "[nltk_data]     C:\\Users\\manis\\AppData\\Roaming\\nltk_data...\n",
            "[nltk_data]   Package punkt is already up-to-date!\n",
            "[nltk_data] Downloading package wordnet to\n",
            "[nltk_data]     C:\\Users\\manis\\AppData\\Roaming\\nltk_data...\n",
            "[nltk_data]   Package wordnet is already up-to-date!\n",
            "[nltk_data] Downloading package averaged_perceptron_tagger to\n",
            "[nltk_data]     C:\\Users\\manis\\AppData\\Roaming\\nltk_data...\n",
            "[nltk_data]   Package averaged_perceptron_tagger is already up-to-\n",
            "[nltk_data]       date!\n",
            "[nltk_data] Downloading package conll2000 to\n",
            "[nltk_data]     C:\\Users\\manis\\AppData\\Roaming\\nltk_data...\n",
            "[nltk_data]   Package conll2000 is already up-to-date!\n",
            "[nltk_data] Downloading package movie_reviews to\n",
            "[nltk_data]     C:\\Users\\manis\\AppData\\Roaming\\nltk_data...\n",
            "[nltk_data]   Package movie_reviews is already up-to-date!\n"
          ]
        }
      ],
      "source": [
        "!pip install -U nltk\n",
        "!pip install -U textblob\n",
        "!python -m textblob.download_corpora"
      ]
    },
    {
      "cell_type": "code",
      "execution_count": 25,
      "metadata": {
        "id": "CohocsSb4HVV"
      },
      "outputs": [],
      "source": [
        "import re\n",
        "from textblob import TextBlob\n",
        "data = '''\n",
        "Stack is a linear data structure which follows a particular order in which the operations are performed. \n",
        "The order may be LIFO or Last In First Out or FILO i.e First In Last Out.\n",
        "A queue is defined as a linear data structure that is open at both ends and the operations are performed in First In First Out also known as FIFO order.\n",
        "A string is a class that defines objects that be represented as a stream of characters.\n",
        "In the case of strings, the memory is allocated dynamically. \n",
        "More memory can be allocated at run time on demand. \n",
        "As no memory is preallocated, no memory is wasted.\n",
        "Strings are slower when compared to implementation than character array.\n",
        "An operating system is the program that, after being initially loaded into the computer by a boot program, manages all of the other application programs in a computer. \n",
        "The application programs make use of the operating system by making requests for services through a defined application program interface i.e API.\n",
        "In addition, users can interact directly with the operating system through a user interface, such as a command-line interface i.e CLI or a graphical UI or GUI.\n",
        "As long as each application accesses the same resources and services in the same way, that system software -- the operating system -- can service almost any number of applications. This vastly reduces the amount of time and coding required to develop and debug an application, while ensuring that users can control, configure and manage the system hardware through a common and well-understood interface.\n",
        "'''\n",
        "data = \"Child class is the class that inherits from another class, also called derived class.\"\n",
        "data = TextBlob(data)\n",
        "lines = {}\n",
        "for sentence in data.sentences:    \n",
        "    # keyword = {}\n",
        "    # lines[sentence.string] = keyword;\n",
        "    # for i in sentence.tags:\n",
        "    #     key = i[1].encode('utf-8')\n",
        "    #     if key not in keyword:\n",
        "    #         keyword[key] = []\n",
        "    #     keyword[key].append(i[0].encode('utf-8'))\n",
        "    # print(keyword)\n",
        "  keyword = []\n",
        "  lines[sentence.string] = keyword;\n",
        "  for i in sentence.tags:\n",
        "      key = i[1].encode('utf-8')\n",
        "      keyword.append([key,i[0]])\n"
      ]
    },
    {
      "cell_type": "code",
      "execution_count": 40,
      "metadata": {
        "colab": {
          "base_uri": "https://localhost:8080/"
        },
        "id": "p4TxZsLk4NzO",
        "outputId": "37354716-370b-4389-ac52-3d814876fb73"
      },
      "outputs": [
        {
          "name": "stdout",
          "output_type": "stream",
          "text": [
            "class\n",
            "class\n",
            "derived\n",
            "['Child class', '', 'class', '', '', '', 'class', '', 'derived']\n",
            "derived class\n",
            "Child class is the class that inherits from another class, also called ________ class.\n",
            "Answer: derived\n",
            "________ is the class that inherits from another class, also called derived class.\n",
            "Answer: Child class\n",
            "2\n"
          ]
        }
      ],
      "source": [
        "def decode(l):\n",
        "    if isinstance(l, list):\n",
        "        return [decode(x) for x in l]\n",
        "    else:\n",
        "        return l.decode('utf-8')\n",
        "def questions(word, sentence):\n",
        "    # change= re.compile(re.escape(word), re.IGNORECASE)\n",
        "    return re.compile(word).sub('________', sentence)\n",
        "\n",
        "megacount = 0\n",
        "\n",
        "def frame(sentence, keyword):\n",
        "    words = []\n",
        "    i = 0\n",
        "    while i<len(keyword):\n",
        "      newblank = \"\"\n",
        "      if keyword[i][0] == b'NN' or keyword[i][0] == b'NNS' :\n",
        "        if i!=0 and keyword[i-1][0] == b'JJ':\n",
        "          newblank += keyword[i-1][1] + \" \"\n",
        "        newblank += keyword[i][1]\n",
        "        print(newblank)\n",
        "        if i>=len(keyword) - 1:\n",
        "          break\n",
        "        while i<len(keyword)-1 and (keyword[i+1][0] == b'NN') :\n",
        "          newblank+= \" \" + (keyword[i+1][1])\n",
        "          i+=1\n",
        "        i+=1\n",
        "      elif keyword[i][0] == b'NNP' :\n",
        "        newblank += keyword[i][1]\n",
        "        if i>=len(keyword) - 1:\n",
        "          break\n",
        "        while i<len(keyword)-1 and (keyword[i+1][0] == b'NNP' or keyword[i+1][0] == b'NN' ):\n",
        "          newblank+= \" \" + (keyword[i+1][1])\n",
        "          i+=2\n",
        "      elif keyword[i][0] == b'JJ':\n",
        "        if i!=0 and ( keyword[i-1][0] == b'JJ' or  keyword[i-1][0] == b'RB'):\n",
        "          newblank += keyword[i-1][1] + \" \"\n",
        "        newblank += keyword[i][1]\n",
        "        print(newblank)\n",
        "        words.append(newblank)\n",
        "        print(words)\n",
        "      words.append(newblank)\n",
        "      i+=1\n",
        "    if words:\n",
        "        words = list(set(words))\n",
        "        words.sort()\n",
        "        i = 0\n",
        "        \n",
        "        for r_index, r_word in enumerate(words):\n",
        "          for o_index, o_word in enumerate(words):\n",
        "            if r_index == o_index:\n",
        "              continue\n",
        "            if((r_word in o_word) and (r_word in words)):\n",
        "              words[r_index]= \"\"\n",
        "        words = [i for i in words if i != \"\"]\n",
        "        # words = list(set(words))\n",
        "        \n",
        "        # q_arr = []\n",
        "        for w in list(set(words)):\n",
        "          # q_arr.append(questions(w, sentence))\n",
        "          question= questions(w, sentence)\n",
        "          print(question)\n",
        "          print(\"Answer: \"+ w)\n",
        "          \n",
        "          i+=1\n",
        "        # print(*q_arr,sep=\"\\n\")\n",
        "        return i\n",
        "    \n",
        "for sentence in lines.keys():\n",
        "  keyword = lines[sentence]\n",
        "  megacount += frame(sentence, keyword)\n",
        "print(megacount)"
      ]
    }
  ],
  "metadata": {
    "colab": {
      "provenance": []
    },
    "kernelspec": {
      "display_name": "Python 3.11.0 64-bit",
      "language": "python",
      "name": "python3"
    },
    "language_info": {
      "codemirror_mode": {
        "name": "ipython",
        "version": 3
      },
      "file_extension": ".py",
      "mimetype": "text/x-python",
      "name": "python",
      "nbconvert_exporter": "python",
      "pygments_lexer": "ipython3",
      "version": "3.11.0"
    },
    "vscode": {
      "interpreter": {
        "hash": "cbefe962c26b8c64ee5981982b686c1c7c6f8c85de149f083a9bd9e577a6c3d1"
      }
    }
  },
  "nbformat": 4,
  "nbformat_minor": 0
}
